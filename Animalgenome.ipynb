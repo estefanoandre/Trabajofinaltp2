{
 "cells": [
  {
   "cell_type": "code",
   "execution_count": 4,
   "metadata": {},
   "outputs": [],
   "source": [
    "import pandas as pd\n",
    "import numpy as np\n",
    "import matplotlib.pyplot as ptl\n",
    "import seaborn as sns\n",
    "from urllib.request import urlopen\n",
    "from bs4 import BeautifulSoup as soup\n",
    "import requests"
   ]
  },
  {
   "cell_type": "code",
   "execution_count": 5,
   "metadata": {
    "collapsed": true
   },
   "outputs": [
    {
     "name": "stdout",
     "output_type": "stream",
     "text": [
      "b'<HTML>\\n<HEAD><TITLE>Sheep QTL Database</title>\\n<STYLE TYPE=\"text/css\"><!--\\nP { font-size:9pt;\\n    color:navy;\\n    font-family:sans-serif,arial,verdana,helvetica; }\\nINPUT  { font-size:8pt;\\n         color:navy;\\n\\t font-family:sans-serif,arial,verdana,helvetica; }\\n-->\\n</STYLE>\\n</HEAD>\\n\\n<BODY bgcolor=\"#FfFffF\" text=\"#0000A0\" link=\"#0000FF\" vlink=\"#0069E1\" alink=\"008840\">\\n<TABLE border=0 cellspacing=0 cellpadding=0 width=800 BACKGROUND=\"/QTLdb/images/titlebar_bg.jpg\">\\n <TR><TD align=left style=\"padding:2px;\"><a href=\"/QTLdb/sheep\"><img src=\"/QTLdb/images/sheepQTLdbsm.gif\"></a>\\n \\n </TD><TD align=\\'right\\' style=\\'padding:0 6px\\'>\\n \\n <FORM NAME=highlight style=\"margin:0px;\">\\n <TABLE border=0 cellspacing=2 cellpadding=0 align=right><TR>\\n <TD onmouseover=\"this.style.background=\\'yellow\\'\" onmouseout=\"this.style.background=\\'\\'\">\\n <INPUT TYPE=\"button\" VALUE=\"Browse\" onClick=\"location.href=\\'browse\\'\">\\n </TD><TD onmouseover=\"this.style.background=\\'yellow\\'\" onmouseout=\"this.style.background=\\'\\'\">\\n <INPUT TYPE=\"button\" VALUE=\"Search\" onClick=\"location.href=\\'search\\'\">\\n </TD><TD onmouseover=\"this.style.background=\\'yellow\\'\" onmouseout=\"this.style.background=\\'\\'\">\\n <INPUT TYPE=\"button\" VALUE=\"View Maps\" onClick=\"location.href=\\'viewmap\\'\">\\n </TD><TD onmouseover=\"this.style.background=\\'yellow\\'\" onmouseout=\"this.style.background=\\'\\'\">\\n <INPUT TYPE=\"button\" VALUE=\"F A Q\" onClick=\"location.href=\\'/QTLdb/faq\\'\">\\n </TD></TR></TABLE>\\n </FORM>\\n </TD></TR>\\n </TABLE>\\n\\n<h2>QTL for trait <font color=\"#8B0000\"><U>Milk Yield</U></font> in the Sheep Genome</h2>\\n( <I>Click on a chromosome to show all QTL on that chromosome; Click on a QTL name to get its details.</I> )\\n<img src=\"/tmp/map595603158.png\" usemap=\"#mymap\" border=\"0\">\\n<map name=\"mymap\">\\n<area shape=\"rect\" coords=\"703,527,711,658.5\" href=\"chromap?chromos=X&trait_ID=3039&trait_ID=3039\">\\n <area shape=\"rect\" coords=\"693,526,731,513\" href=\"chromap?chromos=X&trait_ID=3039\">\\n <area shape=\"rect\" coords=\"46,37,54,403.2\" href=\"chromap?chromos=1&trait_ID=3039&trait_ID=3039\">\\n <area shape=\"rect\" coords=\"36,36,74,23\" href=\"chromap?chromos=1&trait_ID=3039\">\\n <area shape=\"rect\" coords=\"59,140.9,67,128.9\" href=\"qdetails?QTL_ID=13827\">\\n <area shape=\"rect\" coords=\"72,174.7,80,162.7\" href=\"qdetails?QTL_ID=13830\">\\n <area shape=\"rect\" coords=\"85,163.5,93,151.5\" href=\"qdetails?QTL_ID=13832\">\\n <area shape=\"rect\" coords=\"98,294.51,106,282.51\" href=\"qdetails?QTL_ID=57709\">\\n <area shape=\"rect\" coords=\"119,37,127,393.2\" href=\"chromap?chromos=2&trait_ID=3039&trait_ID=3039\">\\n <area shape=\"rect\" coords=\"109,36,147,23\" href=\"chromap?chromos=2&trait_ID=3039\">\\n <area shape=\"rect\" coords=\"132,286.7,140,274.7\" href=\"qdetails?QTL_ID=13992\">\\n <area shape=\"rect\" coords=\"145,275.4,153,263.4\" href=\"qdetails?QTL_ID=14147\">\\n <area shape=\"rect\" coords=\"158,108.74,166,96.74\" href=\"qdetails?QTL_ID=57681\">\\n <area shape=\"rect\" coords=\"171,257.39,179,245.39\" href=\"qdetails?QTL_ID=57684\">\\n <area shape=\"rect\" coords=\"184,109.52,192,97.52\" href=\"qdetails?QTL_ID=57718\">\\n <area shape=\"rect\" coords=\"192,37,200,380.3\" href=\"chromap?chromos=3&trait_ID=3039&trait_ID=3039\">\\n <area shape=\"rect\" coords=\"182,36,220,23\" href=\"chromap?chromos=3&trait_ID=3039\">\\n <area shape=\"rect\" coords=\"205,152,213,140\" href=\"qdetails?QTL_ID=13996\">\\n <area shape=\"rect\" coords=\"218,169.99,226,157.99\" href=\"qdetails?QTL_ID=57740\">\\n <area shape=\"rect\" coords=\"265,37,273,225.8\" href=\"chromap?chromos=4&trait_ID=3039&trait_ID=3039\">\\n <area shape=\"rect\" coords=\"255,36,293,23\" href=\"chromap?chromos=4&trait_ID=3039\">\\n <area shape=\"rect\" coords=\"278,153.67,286,141.67\" href=\"qdetails?QTL_ID=193115\">\\n <area shape=\"rect\" coords=\"338,37,346,236.9\" href=\"chromap?chromos=5&trait_ID=3039&trait_ID=3039\">\\n <area shape=\"rect\" coords=\"328,36,366,23\" href=\"chromap?chromos=5&trait_ID=3039\">\\n <area shape=\"rect\" coords=\"411,37,419,233.7\" href=\"chromap?chromos=6&trait_ID=3039&trait_ID=3039\">\\n <area shape=\"rect\" coords=\"401,36,439,23\" href=\"chromap?chromos=6&trait_ID=3039\">\\n <area shape=\"rect\" coords=\"424,169.16,432,157.16\" href=\"qdetails?QTL_ID=13672\">\\n <area shape=\"rect\" coords=\"437,96.61,445,84.61\" href=\"qdetails?QTL_ID=13818\">\\n <area shape=\"rect\" coords=\"450,96.61,458,84.61\" href=\"qdetails?QTL_ID=13820\">\\n <area shape=\"rect\" coords=\"463,87.53,471,75.53\" href=\"qdetails?QTL_ID=14246\">\\n <area shape=\"rect\" coords=\"476,39,484,27\" href=\"qdetails?QTL_ID=170586\">\\n <area shape=\"rect\" coords=\"484,37,492,226.4\" href=\"chromap?chromos=7&trait_ID=3039&trait_ID=3039\">\\n <area shape=\"rect\" coords=\"474,36,512,23\" href=\"chromap?chromos=7&trait_ID=3039\">\\n <area shape=\"rect\" coords=\"497,99.5,505,87.5\" href=\"qdetails?QTL_ID=57745\">\\n <area shape=\"rect\" coords=\"557,37,565,205.8\" href=\"chromap?chromos=8&trait_ID=3039&trait_ID=3039\">\\n <area shape=\"rect\" coords=\"547,36,585,23\" href=\"chromap?chromos=8&trait_ID=3039\">\\n <area shape=\"rect\" coords=\"630,37,638,204.9\" href=\"chromap?chromos=9&trait_ID=3039&trait_ID=3039\">\\n <area shape=\"rect\" coords=\"620,36,658,23\" href=\"chromap?chromos=9&trait_ID=3039\">\\n <area shape=\"rect\" coords=\"643,55.6,651,43.6\" href=\"qdetails?QTL_ID=13985\">\\n <area shape=\"rect\" coords=\"703,37,711,178.2\" href=\"chromap?chromos=10&trait_ID=3039&trait_ID=3039\">\\n <area shape=\"rect\" coords=\"693,36,731,23\" href=\"chromap?chromos=10&trait_ID=3039\">\\n <area shape=\"rect\" coords=\"265,297,273,447.6\" href=\"chromap?chromos=11&trait_ID=3039&trait_ID=3039\">\\n <area shape=\"rect\" coords=\"255,296,293,283\" href=\"chromap?chromos=11&trait_ID=3039\">\\n <area shape=\"rect\" coords=\"278,365.6,286,353.6\" href=\"qdetails?QTL_ID=16017\">\\n <area shape=\"rect\" coords=\"291,382.71,299,370.71\" href=\"qdetails?QTL_ID=37589\">\\n <area shape=\"rect\" coords=\"304,382.7,312,370.7\" href=\"qdetails?QTL_ID=37592\">\\n <area shape=\"rect\" coords=\"338,297,346,444.4\" href=\"chromap?chromos=12&trait_ID=3039&trait_ID=3039\">\\n <area shape=\"rect\" coords=\"328,296,366,283\" href=\"chromap?chromos=12&trait_ID=3039\">\\n <area shape=\"rect\" coords=\"351,353.2,359,341.2\" href=\"qdetails?QTL_ID=14148\">\\n <area shape=\"rect\" coords=\"364,390.57,372,378.57\" href=\"qdetails?QTL_ID=57690\">\\n <area shape=\"rect\" coords=\"411,297,419,466.3\" href=\"chromap?chromos=13&trait_ID=3039&trait_ID=3039\">\\n <area shape=\"rect\" coords=\"401,296,439,283\" href=\"chromap?chromos=13&trait_ID=3039\">\\n <area shape=\"rect\" coords=\"424,319.28,432,307.28\" href=\"qdetails?QTL_ID=57749\">\\n <area shape=\"rect\" coords=\"437,299,445,287\" href=\"qdetails?QTL_ID=170593\">\\n <area shape=\"rect\" coords=\"450,299,458,287\" href=\"qdetails?QTL_ID=170594\">\\n <area shape=\"rect\" coords=\"463,299,471,287\" href=\"qdetails?QTL_ID=170597\">\\n <area shape=\"rect\" coords=\"476,299,484,287\" href=\"qdetails?QTL_ID=170598\">\\n <area shape=\"rect\" coords=\"484,297,492,456.9\" href=\"chromap?chromos=14&trait_ID=3039&trait_ID=3039\">\\n <area shape=\"rect\" coords=\"474,296,512,283\" href=\"chromap?chromos=14&trait_ID=3039\">\\n <area shape=\"rect\" coords=\"497,363.29,505,351.29\" href=\"qdetails?QTL_ID=14190\">\\n <area shape=\"rect\" coords=\"510,299,518,287\" href=\"qdetails?QTL_ID=170601\">\\n <area shape=\"rect\" coords=\"523,299,531,287\" href=\"qdetails?QTL_ID=170602\">\\n <area shape=\"rect\" coords=\"536,299,544,287\" href=\"qdetails?QTL_ID=170604\">\\n <area shape=\"rect\" coords=\"549,299,557,287\" href=\"qdetails?QTL_ID=170605\">\\n <area shape=\"rect\" coords=\"557,297,565,461.8\" href=\"chromap?chromos=15&trait_ID=3039&trait_ID=3039\">\\n <area shape=\"rect\" coords=\"547,296,585,283\" href=\"chromap?chromos=15&trait_ID=3039\">\\n <area shape=\"rect\" coords=\"570,381.05,578,369.05\" href=\"qdetails?QTL_ID=14186\">\\n <area shape=\"rect\" coords=\"630,297,638,422.7\" href=\"chromap?chromos=16&trait_ID=3039&trait_ID=3039\">\\n <area shape=\"rect\" coords=\"620,296,658,283\" href=\"chromap?chromos=16&trait_ID=3039\">\\n <area shape=\"rect\" coords=\"643,337.08,651,325.08\" href=\"qdetails?QTL_ID=57696\">\\n <area shape=\"rect\" coords=\"656,314.19,664,302.19\" href=\"qdetails?QTL_ID=57730\">\\n <area shape=\"rect\" coords=\"669,315.4,677,303.4\" href=\"qdetails?QTL_ID=57752\">\\n <area shape=\"rect\" coords=\"682,299,690,287\" href=\"qdetails?QTL_ID=170609\">\\n <area shape=\"rect\" coords=\"703,297,711,468\" href=\"chromap?chromos=17&trait_ID=3039&trait_ID=3039\">\\n <area shape=\"rect\" coords=\"693,296,731,283\" href=\"chromap?chromos=17&trait_ID=3039\">\\n <area shape=\"rect\" coords=\"716,375.23,724,363.23\" href=\"qdetails?QTL_ID=57756\">\\n <area shape=\"rect\" coords=\"46,527,54,695.7\" href=\"chromap?chromos=18&trait_ID=3039&trait_ID=3039\">\\n <area shape=\"rect\" coords=\"36,526,74,513\" href=\"chromap?chromos=18&trait_ID=3039\">\\n <area shape=\"rect\" coords=\"59,585,67,573\" href=\"qdetails?QTL_ID=14149\">\\n <area shape=\"rect\" coords=\"72,585,80,573\" href=\"qdetails?QTL_ID=14150\">\\n <area shape=\"rect\" coords=\"85,636.79,93,624.79\" href=\"qdetails?QTL_ID=14192\">\\n <area shape=\"rect\" coords=\"98,636.79,106,624.79\" href=\"qdetails?QTL_ID=14193\">\\n <area shape=\"rect\" coords=\"119,527,127,639.8\" href=\"chromap?chromos=19&trait_ID=3039&trait_ID=3039\">\\n <area shape=\"rect\" coords=\"109,526,147,513\" href=\"chromap?chromos=19&trait_ID=3039\">\\n <area shape=\"rect\" coords=\"132,587.5,140,575.5\" href=\"qdetails?QTL_ID=57732\">\\n <area shape=\"rect\" coords=\"145,529,153,517\" href=\"qdetails?QTL_ID=170613\">\\n <area shape=\"rect\" coords=\"158,529,166,517\" href=\"qdetails?QTL_ID=170616\">\\n <area shape=\"rect\" coords=\"192,527,200,667.9\" href=\"chromap?chromos=20&trait_ID=3039&trait_ID=3039\">\\n <area shape=\"rect\" coords=\"182,526,220,513\" href=\"chromap?chromos=20&trait_ID=3039\">\\n <area shape=\"rect\" coords=\"205,582.9,213,570.9\" href=\"qdetails?QTL_ID=14006\">\\n <area shape=\"rect\" coords=\"218,598.5,226,586.5\" href=\"qdetails?QTL_ID=14151\">\\n <area shape=\"rect\" coords=\"231,595.88,239,583.88\" href=\"qdetails?QTL_ID=193118\">\\n <area shape=\"rect\" coords=\"265,527,273,643.5\" href=\"chromap?chromos=21&trait_ID=3039&trait_ID=3039\">\\n <area shape=\"rect\" coords=\"255,526,293,513\" href=\"chromap?chromos=21&trait_ID=3039\">\\n <area shape=\"rect\" coords=\"278,572.59,286,560.59\" href=\"qdetails?QTL_ID=170221\">\\n <area shape=\"rect\" coords=\"338,527,346,650.9\" href=\"chromap?chromos=22&trait_ID=3039&trait_ID=3039\">\\n <area shape=\"rect\" coords=\"328,526,366,513\" href=\"chromap?chromos=22&trait_ID=3039\">\\n <area shape=\"rect\" coords=\"351,539.72,359,527.72\" href=\"qdetails?QTL_ID=57763\">\\n <area shape=\"rect\" coords=\"411,527,419,651.9\" href=\"chromap?chromos=23&trait_ID=3039&trait_ID=3039\">\\n <area shape=\"rect\" coords=\"401,526,439,513\" href=\"chromap?chromos=23&trait_ID=3039\">\\n <area shape=\"rect\" coords=\"424,612.9,432,600.9\" href=\"qdetails?QTL_ID=13906\">\\n <area shape=\"rect\" coords=\"484,527,492,649.6\" href=\"chromap?chromos=24&trait_ID=3039&trait_ID=3039\">\\n <area shape=\"rect\" coords=\"474,526,512,513\" href=\"chromap?chromos=24&trait_ID=3039\">\\n <area shape=\"rect\" coords=\"497,602,505,590\" href=\"qdetails?QTL_ID=14008\">\\n <area shape=\"rect\" coords=\"510,552,518,540\" href=\"qdetails?QTL_ID=14152\">\\n <area shape=\"rect\" coords=\"557,527,565,636.3\" href=\"chromap?chromos=25&trait_ID=3039&trait_ID=3039\">\\n <area shape=\"rect\" coords=\"547,526,585,513\" href=\"chromap?chromos=25&trait_ID=3039\">\\n <area shape=\"rect\" coords=\"630,527,638,639.1\" href=\"chromap?chromos=26&trait_ID=3039&trait_ID=3039\">\\n <area shape=\"rect\" coords=\"620,526,658,513\" href=\"chromap?chromos=26&trait_ID=3039\">\\n <area shape=\"rect\" coords=\"643,545.02,651,533.02\" href=\"qdetails?QTL_ID=170222\">\\n\\n</map>\\n  <UL style=\\'font-size:11pt;margin:6 0px;list-style-image:url(\"/icons/bullets/rarrow23.png\");\\'>\\n  <LI><a href=\\'wgplot?trait_ID=3039&traitnm=Milk Yield\\'>Try alternative whole genome plot</a>\\n  <LI><a href=\"nscape?isID=3039\">Try enrichment analysis on this trait type</a> <img src=\\'/icons/newest.gif\\'>\\n  <LI><B>Download:</B> <a href=\"/tmp/map595603158.txt.gz\">All data on \"<i>Milk Yield</i>\"</a>\\n  </UL>\\n\\n<BR><P>\\n<B>NOTES</B>:\\nAll QTL are shown to the right of its chromosome.  If the number of QTL shown\\non a chromosome is 5 (filled the space), there could be more QTL of this trait\\non that chromosome.  Click on the chromosome to find more.\\n<B>Legend:</B> \\n<font color=red>Red</font> QTL lines represent for significant and\\n<font color=\"#4876ff\">light blue</font> lines for suggestive statistical evidence.\\nThe <font color=\"#32CD32\">green</font> QTL name is the one under your examination.\\n<BR>\\n<B>Acknowledgement:</B> The Chromosome drawn is mainly based on the \\n<a href=\"http://intl.genome.org/cgi/content/full/10/1/137\">Wageningen Sheep\\nConsensus Linkage Map</a>\\n</P>\\n<HR style=\"margin:0px;padding:0px;border-top:1px solid #888\">\\n<TABLE border=0 width=\"100%\" cellpadding=0 cellspacing=0 style=\"margin:10 40 40 3px;padding:0;\">\\n<TR><TD style=\\'vertical-align:top;width:45px\\'>\\n<a href=\"/log\"><img border=0 align=left alt=\"Web Access Statistics\" src=\"/icons/stat_a.jpg\"></A>\\n</TD>\\n<TD style=\"font-size:8pt;color:red;font-family:verdana,helvetica,sans-serif;text-align:left;\">\\n&#169 2003-2020 <a style=\"font-size:8pt;font-family:verdana, helvetica, sans-serif;\"\\n href=\"/default/info\">NAGRP - Bioinformatics Coordination Program</a>.<BR>\\nContact: <a style=\"font-size:8pt;font-family:verdana, helvetica, sans-serif;\"\\n target=\"_parent\" href=\"/bioinfo/community/team\">NAGRP Bioinformatics Team</a>\\n</TD>\\n<TD style=\\'vertical-align:bottom;text-align:right;padding-right:18px\\'>\\n<a style=\"font-family:verdana;font-size:10pt;font-weight:bold;\" href=\"/helpdesk?subj=/home/apache/cgi-bin/QTLdb/OA/traitmap\">\\n<img src=\"/icons/small/bookstdl.gif\"> Helpdesk <img src=\"/icons/small/bookstdr.gif\"></a>\\n</TD></TR>\\n</TABLE>\\n</BODY></HTML>\\n'\n"
     ]
    }
   ],
   "source": [
    "url=\"https://www.animalgenome.org/cgi-bin/QTLdb/OA/traitmap?trait_ID=3039\"\n",
    "uclient=urlopen(url)\n",
    "pagehtml=uclient.read()\n",
    "uclient.close()\n",
    "print(pagehtml)"
   ]
  },
  {
   "cell_type": "code",
   "execution_count": 6,
   "metadata": {
    "scrolled": true
   },
   "outputs": [],
   "source": [
    "urls=[]\n",
    "pagesoup=soup(pagehtml, \"html.parser\")\n",
    "c=pagesoup.findAll(\"area\",{\"shape\":\"rect\"})\n",
    "for i in range(0,110):\n",
    "    if c[i][\"href\"][0:8]==\"qdetails\":\n",
    "        urls.append(\"https://www.animalgenome.org/cgi-bin/QTLdb/OA/\"+c[i][\"href\"])"
   ]
  },
  {
   "cell_type": "code",
   "execution_count": 7,
   "metadata": {
    "collapsed": true
   },
   "outputs": [
    {
     "data": {
      "text/plain": [
       "['https://www.animalgenome.org/cgi-bin/QTLdb/OA/qdetails?QTL_ID=13827',\n",
       " 'https://www.animalgenome.org/cgi-bin/QTLdb/OA/qdetails?QTL_ID=13830',\n",
       " 'https://www.animalgenome.org/cgi-bin/QTLdb/OA/qdetails?QTL_ID=13832',\n",
       " 'https://www.animalgenome.org/cgi-bin/QTLdb/OA/qdetails?QTL_ID=57709',\n",
       " 'https://www.animalgenome.org/cgi-bin/QTLdb/OA/qdetails?QTL_ID=13992',\n",
       " 'https://www.animalgenome.org/cgi-bin/QTLdb/OA/qdetails?QTL_ID=14147',\n",
       " 'https://www.animalgenome.org/cgi-bin/QTLdb/OA/qdetails?QTL_ID=57681',\n",
       " 'https://www.animalgenome.org/cgi-bin/QTLdb/OA/qdetails?QTL_ID=57684',\n",
       " 'https://www.animalgenome.org/cgi-bin/QTLdb/OA/qdetails?QTL_ID=57718',\n",
       " 'https://www.animalgenome.org/cgi-bin/QTLdb/OA/qdetails?QTL_ID=13996',\n",
       " 'https://www.animalgenome.org/cgi-bin/QTLdb/OA/qdetails?QTL_ID=57740',\n",
       " 'https://www.animalgenome.org/cgi-bin/QTLdb/OA/qdetails?QTL_ID=193115',\n",
       " 'https://www.animalgenome.org/cgi-bin/QTLdb/OA/qdetails?QTL_ID=13672',\n",
       " 'https://www.animalgenome.org/cgi-bin/QTLdb/OA/qdetails?QTL_ID=13818',\n",
       " 'https://www.animalgenome.org/cgi-bin/QTLdb/OA/qdetails?QTL_ID=13820',\n",
       " 'https://www.animalgenome.org/cgi-bin/QTLdb/OA/qdetails?QTL_ID=14246',\n",
       " 'https://www.animalgenome.org/cgi-bin/QTLdb/OA/qdetails?QTL_ID=170586',\n",
       " 'https://www.animalgenome.org/cgi-bin/QTLdb/OA/qdetails?QTL_ID=57745',\n",
       " 'https://www.animalgenome.org/cgi-bin/QTLdb/OA/qdetails?QTL_ID=13985',\n",
       " 'https://www.animalgenome.org/cgi-bin/QTLdb/OA/qdetails?QTL_ID=16017',\n",
       " 'https://www.animalgenome.org/cgi-bin/QTLdb/OA/qdetails?QTL_ID=37589',\n",
       " 'https://www.animalgenome.org/cgi-bin/QTLdb/OA/qdetails?QTL_ID=37592',\n",
       " 'https://www.animalgenome.org/cgi-bin/QTLdb/OA/qdetails?QTL_ID=14148',\n",
       " 'https://www.animalgenome.org/cgi-bin/QTLdb/OA/qdetails?QTL_ID=57690',\n",
       " 'https://www.animalgenome.org/cgi-bin/QTLdb/OA/qdetails?QTL_ID=57749',\n",
       " 'https://www.animalgenome.org/cgi-bin/QTLdb/OA/qdetails?QTL_ID=170593',\n",
       " 'https://www.animalgenome.org/cgi-bin/QTLdb/OA/qdetails?QTL_ID=170594',\n",
       " 'https://www.animalgenome.org/cgi-bin/QTLdb/OA/qdetails?QTL_ID=170597',\n",
       " 'https://www.animalgenome.org/cgi-bin/QTLdb/OA/qdetails?QTL_ID=170598',\n",
       " 'https://www.animalgenome.org/cgi-bin/QTLdb/OA/qdetails?QTL_ID=14190',\n",
       " 'https://www.animalgenome.org/cgi-bin/QTLdb/OA/qdetails?QTL_ID=170601',\n",
       " 'https://www.animalgenome.org/cgi-bin/QTLdb/OA/qdetails?QTL_ID=170602',\n",
       " 'https://www.animalgenome.org/cgi-bin/QTLdb/OA/qdetails?QTL_ID=170604',\n",
       " 'https://www.animalgenome.org/cgi-bin/QTLdb/OA/qdetails?QTL_ID=170605',\n",
       " 'https://www.animalgenome.org/cgi-bin/QTLdb/OA/qdetails?QTL_ID=14186',\n",
       " 'https://www.animalgenome.org/cgi-bin/QTLdb/OA/qdetails?QTL_ID=57696',\n",
       " 'https://www.animalgenome.org/cgi-bin/QTLdb/OA/qdetails?QTL_ID=57730',\n",
       " 'https://www.animalgenome.org/cgi-bin/QTLdb/OA/qdetails?QTL_ID=57752',\n",
       " 'https://www.animalgenome.org/cgi-bin/QTLdb/OA/qdetails?QTL_ID=170609',\n",
       " 'https://www.animalgenome.org/cgi-bin/QTLdb/OA/qdetails?QTL_ID=57756',\n",
       " 'https://www.animalgenome.org/cgi-bin/QTLdb/OA/qdetails?QTL_ID=14149',\n",
       " 'https://www.animalgenome.org/cgi-bin/QTLdb/OA/qdetails?QTL_ID=14150',\n",
       " 'https://www.animalgenome.org/cgi-bin/QTLdb/OA/qdetails?QTL_ID=14192',\n",
       " 'https://www.animalgenome.org/cgi-bin/QTLdb/OA/qdetails?QTL_ID=14193',\n",
       " 'https://www.animalgenome.org/cgi-bin/QTLdb/OA/qdetails?QTL_ID=57732',\n",
       " 'https://www.animalgenome.org/cgi-bin/QTLdb/OA/qdetails?QTL_ID=170613',\n",
       " 'https://www.animalgenome.org/cgi-bin/QTLdb/OA/qdetails?QTL_ID=170616',\n",
       " 'https://www.animalgenome.org/cgi-bin/QTLdb/OA/qdetails?QTL_ID=14006',\n",
       " 'https://www.animalgenome.org/cgi-bin/QTLdb/OA/qdetails?QTL_ID=14151',\n",
       " 'https://www.animalgenome.org/cgi-bin/QTLdb/OA/qdetails?QTL_ID=193118',\n",
       " 'https://www.animalgenome.org/cgi-bin/QTLdb/OA/qdetails?QTL_ID=170221',\n",
       " 'https://www.animalgenome.org/cgi-bin/QTLdb/OA/qdetails?QTL_ID=57763',\n",
       " 'https://www.animalgenome.org/cgi-bin/QTLdb/OA/qdetails?QTL_ID=13906',\n",
       " 'https://www.animalgenome.org/cgi-bin/QTLdb/OA/qdetails?QTL_ID=14008',\n",
       " 'https://www.animalgenome.org/cgi-bin/QTLdb/OA/qdetails?QTL_ID=14152',\n",
       " 'https://www.animalgenome.org/cgi-bin/QTLdb/OA/qdetails?QTL_ID=170222']"
      ]
     },
     "execution_count": 7,
     "metadata": {},
     "output_type": "execute_result"
    }
   ],
   "source": [
    "urls"
   ]
  },
  {
   "cell_type": "code",
   "execution_count": 8,
   "metadata": {},
   "outputs": [
    {
     "data": {
      "text/plain": [
       "56"
      ]
     },
     "execution_count": 8,
     "metadata": {},
     "output_type": "execute_result"
    }
   ],
   "source": [
    "len(urls)"
   ]
  },
  {
   "cell_type": "code",
   "execution_count": 9,
   "metadata": {},
   "outputs": [
    {
     "ename": "URLError",
     "evalue": "<urlopen error [WinError 10060] Se produjo un error durante el intento de conexión ya que la parte conectada no respondió adecuadamente tras un periodo de tiempo, o bien se produjo un error en la conexión establecida ya que el host conectado no ha podido responder>",
     "output_type": "error",
     "traceback": [
      "\u001b[1;31m---------------------------------------------------------------------------\u001b[0m",
      "\u001b[1;31mTimeoutError\u001b[0m                              Traceback (most recent call last)",
      "\u001b[1;32m~\\anaconda3\\lib\\urllib\\request.py\u001b[0m in \u001b[0;36mdo_open\u001b[1;34m(self, http_class, req, **http_conn_args)\u001b[0m\n\u001b[0;32m   1349\u001b[0m             \u001b[1;32mtry\u001b[0m\u001b[1;33m:\u001b[0m\u001b[1;33m\u001b[0m\u001b[1;33m\u001b[0m\u001b[0m\n\u001b[1;32m-> 1350\u001b[1;33m                 h.request(req.get_method(), req.selector, req.data, headers,\n\u001b[0m\u001b[0;32m   1351\u001b[0m                           encode_chunked=req.has_header('Transfer-encoding'))\n",
      "\u001b[1;32m~\\anaconda3\\lib\\http\\client.py\u001b[0m in \u001b[0;36mrequest\u001b[1;34m(self, method, url, body, headers, encode_chunked)\u001b[0m\n\u001b[0;32m   1239\u001b[0m         \u001b[1;34m\"\"\"Send a complete request to the server.\"\"\"\u001b[0m\u001b[1;33m\u001b[0m\u001b[1;33m\u001b[0m\u001b[0m\n\u001b[1;32m-> 1240\u001b[1;33m         \u001b[0mself\u001b[0m\u001b[1;33m.\u001b[0m\u001b[0m_send_request\u001b[0m\u001b[1;33m(\u001b[0m\u001b[0mmethod\u001b[0m\u001b[1;33m,\u001b[0m \u001b[0murl\u001b[0m\u001b[1;33m,\u001b[0m \u001b[0mbody\u001b[0m\u001b[1;33m,\u001b[0m \u001b[0mheaders\u001b[0m\u001b[1;33m,\u001b[0m \u001b[0mencode_chunked\u001b[0m\u001b[1;33m)\u001b[0m\u001b[1;33m\u001b[0m\u001b[1;33m\u001b[0m\u001b[0m\n\u001b[0m\u001b[0;32m   1241\u001b[0m \u001b[1;33m\u001b[0m\u001b[0m\n",
      "\u001b[1;32m~\\anaconda3\\lib\\http\\client.py\u001b[0m in \u001b[0;36m_send_request\u001b[1;34m(self, method, url, body, headers, encode_chunked)\u001b[0m\n\u001b[0;32m   1285\u001b[0m             \u001b[0mbody\u001b[0m \u001b[1;33m=\u001b[0m \u001b[0m_encode\u001b[0m\u001b[1;33m(\u001b[0m\u001b[0mbody\u001b[0m\u001b[1;33m,\u001b[0m \u001b[1;34m'body'\u001b[0m\u001b[1;33m)\u001b[0m\u001b[1;33m\u001b[0m\u001b[1;33m\u001b[0m\u001b[0m\n\u001b[1;32m-> 1286\u001b[1;33m         \u001b[0mself\u001b[0m\u001b[1;33m.\u001b[0m\u001b[0mendheaders\u001b[0m\u001b[1;33m(\u001b[0m\u001b[0mbody\u001b[0m\u001b[1;33m,\u001b[0m \u001b[0mencode_chunked\u001b[0m\u001b[1;33m=\u001b[0m\u001b[0mencode_chunked\u001b[0m\u001b[1;33m)\u001b[0m\u001b[1;33m\u001b[0m\u001b[1;33m\u001b[0m\u001b[0m\n\u001b[0m\u001b[0;32m   1287\u001b[0m \u001b[1;33m\u001b[0m\u001b[0m\n",
      "\u001b[1;32m~\\anaconda3\\lib\\http\\client.py\u001b[0m in \u001b[0;36mendheaders\u001b[1;34m(self, message_body, encode_chunked)\u001b[0m\n\u001b[0;32m   1234\u001b[0m             \u001b[1;32mraise\u001b[0m \u001b[0mCannotSendHeader\u001b[0m\u001b[1;33m(\u001b[0m\u001b[1;33m)\u001b[0m\u001b[1;33m\u001b[0m\u001b[1;33m\u001b[0m\u001b[0m\n\u001b[1;32m-> 1235\u001b[1;33m         \u001b[0mself\u001b[0m\u001b[1;33m.\u001b[0m\u001b[0m_send_output\u001b[0m\u001b[1;33m(\u001b[0m\u001b[0mmessage_body\u001b[0m\u001b[1;33m,\u001b[0m \u001b[0mencode_chunked\u001b[0m\u001b[1;33m=\u001b[0m\u001b[0mencode_chunked\u001b[0m\u001b[1;33m)\u001b[0m\u001b[1;33m\u001b[0m\u001b[1;33m\u001b[0m\u001b[0m\n\u001b[0m\u001b[0;32m   1236\u001b[0m \u001b[1;33m\u001b[0m\u001b[0m\n",
      "\u001b[1;32m~\\anaconda3\\lib\\http\\client.py\u001b[0m in \u001b[0;36m_send_output\u001b[1;34m(self, message_body, encode_chunked)\u001b[0m\n\u001b[0;32m   1005\u001b[0m         \u001b[1;32mdel\u001b[0m \u001b[0mself\u001b[0m\u001b[1;33m.\u001b[0m\u001b[0m_buffer\u001b[0m\u001b[1;33m[\u001b[0m\u001b[1;33m:\u001b[0m\u001b[1;33m]\u001b[0m\u001b[1;33m\u001b[0m\u001b[1;33m\u001b[0m\u001b[0m\n\u001b[1;32m-> 1006\u001b[1;33m         \u001b[0mself\u001b[0m\u001b[1;33m.\u001b[0m\u001b[0msend\u001b[0m\u001b[1;33m(\u001b[0m\u001b[0mmsg\u001b[0m\u001b[1;33m)\u001b[0m\u001b[1;33m\u001b[0m\u001b[1;33m\u001b[0m\u001b[0m\n\u001b[0m\u001b[0;32m   1007\u001b[0m \u001b[1;33m\u001b[0m\u001b[0m\n",
      "\u001b[1;32m~\\anaconda3\\lib\\http\\client.py\u001b[0m in \u001b[0;36msend\u001b[1;34m(self, data)\u001b[0m\n\u001b[0;32m    945\u001b[0m             \u001b[1;32mif\u001b[0m \u001b[0mself\u001b[0m\u001b[1;33m.\u001b[0m\u001b[0mauto_open\u001b[0m\u001b[1;33m:\u001b[0m\u001b[1;33m\u001b[0m\u001b[1;33m\u001b[0m\u001b[0m\n\u001b[1;32m--> 946\u001b[1;33m                 \u001b[0mself\u001b[0m\u001b[1;33m.\u001b[0m\u001b[0mconnect\u001b[0m\u001b[1;33m(\u001b[0m\u001b[1;33m)\u001b[0m\u001b[1;33m\u001b[0m\u001b[1;33m\u001b[0m\u001b[0m\n\u001b[0m\u001b[0;32m    947\u001b[0m             \u001b[1;32melse\u001b[0m\u001b[1;33m:\u001b[0m\u001b[1;33m\u001b[0m\u001b[1;33m\u001b[0m\u001b[0m\n",
      "\u001b[1;32m~\\anaconda3\\lib\\http\\client.py\u001b[0m in \u001b[0;36mconnect\u001b[1;34m(self)\u001b[0m\n\u001b[0;32m   1401\u001b[0m \u001b[1;33m\u001b[0m\u001b[0m\n\u001b[1;32m-> 1402\u001b[1;33m             \u001b[0msuper\u001b[0m\u001b[1;33m(\u001b[0m\u001b[1;33m)\u001b[0m\u001b[1;33m.\u001b[0m\u001b[0mconnect\u001b[0m\u001b[1;33m(\u001b[0m\u001b[1;33m)\u001b[0m\u001b[1;33m\u001b[0m\u001b[1;33m\u001b[0m\u001b[0m\n\u001b[0m\u001b[0;32m   1403\u001b[0m \u001b[1;33m\u001b[0m\u001b[0m\n",
      "\u001b[1;32m~\\anaconda3\\lib\\http\\client.py\u001b[0m in \u001b[0;36mconnect\u001b[1;34m(self)\u001b[0m\n\u001b[0;32m    916\u001b[0m         \u001b[1;34m\"\"\"Connect to the host and port specified in __init__.\"\"\"\u001b[0m\u001b[1;33m\u001b[0m\u001b[1;33m\u001b[0m\u001b[0m\n\u001b[1;32m--> 917\u001b[1;33m         self.sock = self._create_connection(\n\u001b[0m\u001b[0;32m    918\u001b[0m             (self.host,self.port), self.timeout, self.source_address)\n",
      "\u001b[1;32m~\\anaconda3\\lib\\socket.py\u001b[0m in \u001b[0;36mcreate_connection\u001b[1;34m(address, timeout, source_address)\u001b[0m\n\u001b[0;32m    807\u001b[0m         \u001b[1;32mtry\u001b[0m\u001b[1;33m:\u001b[0m\u001b[1;33m\u001b[0m\u001b[1;33m\u001b[0m\u001b[0m\n\u001b[1;32m--> 808\u001b[1;33m             \u001b[1;32mraise\u001b[0m \u001b[0merr\u001b[0m\u001b[1;33m\u001b[0m\u001b[1;33m\u001b[0m\u001b[0m\n\u001b[0m\u001b[0;32m    809\u001b[0m         \u001b[1;32mfinally\u001b[0m\u001b[1;33m:\u001b[0m\u001b[1;33m\u001b[0m\u001b[1;33m\u001b[0m\u001b[0m\n",
      "\u001b[1;32m~\\anaconda3\\lib\\socket.py\u001b[0m in \u001b[0;36mcreate_connection\u001b[1;34m(address, timeout, source_address)\u001b[0m\n\u001b[0;32m    795\u001b[0m                 \u001b[0msock\u001b[0m\u001b[1;33m.\u001b[0m\u001b[0mbind\u001b[0m\u001b[1;33m(\u001b[0m\u001b[0msource_address\u001b[0m\u001b[1;33m)\u001b[0m\u001b[1;33m\u001b[0m\u001b[1;33m\u001b[0m\u001b[0m\n\u001b[1;32m--> 796\u001b[1;33m             \u001b[0msock\u001b[0m\u001b[1;33m.\u001b[0m\u001b[0mconnect\u001b[0m\u001b[1;33m(\u001b[0m\u001b[0msa\u001b[0m\u001b[1;33m)\u001b[0m\u001b[1;33m\u001b[0m\u001b[1;33m\u001b[0m\u001b[0m\n\u001b[0m\u001b[0;32m    797\u001b[0m             \u001b[1;31m# Break explicitly a reference cycle\u001b[0m\u001b[1;33m\u001b[0m\u001b[1;33m\u001b[0m\u001b[1;33m\u001b[0m\u001b[0m\n",
      "\u001b[1;31mTimeoutError\u001b[0m: [WinError 10060] Se produjo un error durante el intento de conexión ya que la parte conectada no respondió adecuadamente tras un periodo de tiempo, o bien se produjo un error en la conexión establecida ya que el host conectado no ha podido responder",
      "\nDuring handling of the above exception, another exception occurred:\n",
      "\u001b[1;31mURLError\u001b[0m                                  Traceback (most recent call last)",
      "\u001b[1;32m<ipython-input-9-9857cfd1b510>\u001b[0m in \u001b[0;36m<module>\u001b[1;34m\u001b[0m\n\u001b[0;32m     14\u001b[0m \u001b[1;32mfor\u001b[0m \u001b[0mi\u001b[0m \u001b[1;32min\u001b[0m \u001b[0murls\u001b[0m\u001b[1;33m:\u001b[0m\u001b[1;33m\u001b[0m\u001b[1;33m\u001b[0m\u001b[0m\n\u001b[0;32m     15\u001b[0m     \u001b[0murl\u001b[0m\u001b[1;33m=\u001b[0m\u001b[0mstr\u001b[0m\u001b[1;33m(\u001b[0m\u001b[0mi\u001b[0m\u001b[1;33m)\u001b[0m\u001b[1;33m\u001b[0m\u001b[1;33m\u001b[0m\u001b[0m\n\u001b[1;32m---> 16\u001b[1;33m     \u001b[0muclient\u001b[0m\u001b[1;33m=\u001b[0m\u001b[0murlopen\u001b[0m\u001b[1;33m(\u001b[0m\u001b[0murl\u001b[0m\u001b[1;33m)\u001b[0m\u001b[1;33m\u001b[0m\u001b[1;33m\u001b[0m\u001b[0m\n\u001b[0m\u001b[0;32m     17\u001b[0m     \u001b[0mpagehtml\u001b[0m\u001b[1;33m=\u001b[0m\u001b[0muclient\u001b[0m\u001b[1;33m.\u001b[0m\u001b[0mread\u001b[0m\u001b[1;33m(\u001b[0m\u001b[1;33m)\u001b[0m\u001b[1;33m\u001b[0m\u001b[1;33m\u001b[0m\u001b[0m\n\u001b[0;32m     18\u001b[0m     \u001b[0muclient\u001b[0m\u001b[1;33m.\u001b[0m\u001b[0mclose\u001b[0m\u001b[1;33m(\u001b[0m\u001b[1;33m)\u001b[0m\u001b[1;33m\u001b[0m\u001b[1;33m\u001b[0m\u001b[0m\n",
      "\u001b[1;32m~\\anaconda3\\lib\\urllib\\request.py\u001b[0m in \u001b[0;36murlopen\u001b[1;34m(url, data, timeout, cafile, capath, cadefault, context)\u001b[0m\n\u001b[0;32m    220\u001b[0m     \u001b[1;32melse\u001b[0m\u001b[1;33m:\u001b[0m\u001b[1;33m\u001b[0m\u001b[1;33m\u001b[0m\u001b[0m\n\u001b[0;32m    221\u001b[0m         \u001b[0mopener\u001b[0m \u001b[1;33m=\u001b[0m \u001b[0m_opener\u001b[0m\u001b[1;33m\u001b[0m\u001b[1;33m\u001b[0m\u001b[0m\n\u001b[1;32m--> 222\u001b[1;33m     \u001b[1;32mreturn\u001b[0m \u001b[0mopener\u001b[0m\u001b[1;33m.\u001b[0m\u001b[0mopen\u001b[0m\u001b[1;33m(\u001b[0m\u001b[0murl\u001b[0m\u001b[1;33m,\u001b[0m \u001b[0mdata\u001b[0m\u001b[1;33m,\u001b[0m \u001b[0mtimeout\u001b[0m\u001b[1;33m)\u001b[0m\u001b[1;33m\u001b[0m\u001b[1;33m\u001b[0m\u001b[0m\n\u001b[0m\u001b[0;32m    223\u001b[0m \u001b[1;33m\u001b[0m\u001b[0m\n\u001b[0;32m    224\u001b[0m \u001b[1;32mdef\u001b[0m \u001b[0minstall_opener\u001b[0m\u001b[1;33m(\u001b[0m\u001b[0mopener\u001b[0m\u001b[1;33m)\u001b[0m\u001b[1;33m:\u001b[0m\u001b[1;33m\u001b[0m\u001b[1;33m\u001b[0m\u001b[0m\n",
      "\u001b[1;32m~\\anaconda3\\lib\\urllib\\request.py\u001b[0m in \u001b[0;36mopen\u001b[1;34m(self, fullurl, data, timeout)\u001b[0m\n\u001b[0;32m    523\u001b[0m \u001b[1;33m\u001b[0m\u001b[0m\n\u001b[0;32m    524\u001b[0m         \u001b[0msys\u001b[0m\u001b[1;33m.\u001b[0m\u001b[0maudit\u001b[0m\u001b[1;33m(\u001b[0m\u001b[1;34m'urllib.Request'\u001b[0m\u001b[1;33m,\u001b[0m \u001b[0mreq\u001b[0m\u001b[1;33m.\u001b[0m\u001b[0mfull_url\u001b[0m\u001b[1;33m,\u001b[0m \u001b[0mreq\u001b[0m\u001b[1;33m.\u001b[0m\u001b[0mdata\u001b[0m\u001b[1;33m,\u001b[0m \u001b[0mreq\u001b[0m\u001b[1;33m.\u001b[0m\u001b[0mheaders\u001b[0m\u001b[1;33m,\u001b[0m \u001b[0mreq\u001b[0m\u001b[1;33m.\u001b[0m\u001b[0mget_method\u001b[0m\u001b[1;33m(\u001b[0m\u001b[1;33m)\u001b[0m\u001b[1;33m)\u001b[0m\u001b[1;33m\u001b[0m\u001b[1;33m\u001b[0m\u001b[0m\n\u001b[1;32m--> 525\u001b[1;33m         \u001b[0mresponse\u001b[0m \u001b[1;33m=\u001b[0m \u001b[0mself\u001b[0m\u001b[1;33m.\u001b[0m\u001b[0m_open\u001b[0m\u001b[1;33m(\u001b[0m\u001b[0mreq\u001b[0m\u001b[1;33m,\u001b[0m \u001b[0mdata\u001b[0m\u001b[1;33m)\u001b[0m\u001b[1;33m\u001b[0m\u001b[1;33m\u001b[0m\u001b[0m\n\u001b[0m\u001b[0;32m    526\u001b[0m \u001b[1;33m\u001b[0m\u001b[0m\n\u001b[0;32m    527\u001b[0m         \u001b[1;31m# post-process response\u001b[0m\u001b[1;33m\u001b[0m\u001b[1;33m\u001b[0m\u001b[1;33m\u001b[0m\u001b[0m\n",
      "\u001b[1;32m~\\anaconda3\\lib\\urllib\\request.py\u001b[0m in \u001b[0;36m_open\u001b[1;34m(self, req, data)\u001b[0m\n\u001b[0;32m    540\u001b[0m \u001b[1;33m\u001b[0m\u001b[0m\n\u001b[0;32m    541\u001b[0m         \u001b[0mprotocol\u001b[0m \u001b[1;33m=\u001b[0m \u001b[0mreq\u001b[0m\u001b[1;33m.\u001b[0m\u001b[0mtype\u001b[0m\u001b[1;33m\u001b[0m\u001b[1;33m\u001b[0m\u001b[0m\n\u001b[1;32m--> 542\u001b[1;33m         result = self._call_chain(self.handle_open, protocol, protocol +\n\u001b[0m\u001b[0;32m    543\u001b[0m                                   '_open', req)\n\u001b[0;32m    544\u001b[0m         \u001b[1;32mif\u001b[0m \u001b[0mresult\u001b[0m\u001b[1;33m:\u001b[0m\u001b[1;33m\u001b[0m\u001b[1;33m\u001b[0m\u001b[0m\n",
      "\u001b[1;32m~\\anaconda3\\lib\\urllib\\request.py\u001b[0m in \u001b[0;36m_call_chain\u001b[1;34m(self, chain, kind, meth_name, *args)\u001b[0m\n\u001b[0;32m    500\u001b[0m         \u001b[1;32mfor\u001b[0m \u001b[0mhandler\u001b[0m \u001b[1;32min\u001b[0m \u001b[0mhandlers\u001b[0m\u001b[1;33m:\u001b[0m\u001b[1;33m\u001b[0m\u001b[1;33m\u001b[0m\u001b[0m\n\u001b[0;32m    501\u001b[0m             \u001b[0mfunc\u001b[0m \u001b[1;33m=\u001b[0m \u001b[0mgetattr\u001b[0m\u001b[1;33m(\u001b[0m\u001b[0mhandler\u001b[0m\u001b[1;33m,\u001b[0m \u001b[0mmeth_name\u001b[0m\u001b[1;33m)\u001b[0m\u001b[1;33m\u001b[0m\u001b[1;33m\u001b[0m\u001b[0m\n\u001b[1;32m--> 502\u001b[1;33m             \u001b[0mresult\u001b[0m \u001b[1;33m=\u001b[0m \u001b[0mfunc\u001b[0m\u001b[1;33m(\u001b[0m\u001b[1;33m*\u001b[0m\u001b[0margs\u001b[0m\u001b[1;33m)\u001b[0m\u001b[1;33m\u001b[0m\u001b[1;33m\u001b[0m\u001b[0m\n\u001b[0m\u001b[0;32m    503\u001b[0m             \u001b[1;32mif\u001b[0m \u001b[0mresult\u001b[0m \u001b[1;32mis\u001b[0m \u001b[1;32mnot\u001b[0m \u001b[1;32mNone\u001b[0m\u001b[1;33m:\u001b[0m\u001b[1;33m\u001b[0m\u001b[1;33m\u001b[0m\u001b[0m\n\u001b[0;32m    504\u001b[0m                 \u001b[1;32mreturn\u001b[0m \u001b[0mresult\u001b[0m\u001b[1;33m\u001b[0m\u001b[1;33m\u001b[0m\u001b[0m\n",
      "\u001b[1;32m~\\anaconda3\\lib\\urllib\\request.py\u001b[0m in \u001b[0;36mhttps_open\u001b[1;34m(self, req)\u001b[0m\n\u001b[0;32m   1391\u001b[0m \u001b[1;33m\u001b[0m\u001b[0m\n\u001b[0;32m   1392\u001b[0m         \u001b[1;32mdef\u001b[0m \u001b[0mhttps_open\u001b[0m\u001b[1;33m(\u001b[0m\u001b[0mself\u001b[0m\u001b[1;33m,\u001b[0m \u001b[0mreq\u001b[0m\u001b[1;33m)\u001b[0m\u001b[1;33m:\u001b[0m\u001b[1;33m\u001b[0m\u001b[1;33m\u001b[0m\u001b[0m\n\u001b[1;32m-> 1393\u001b[1;33m             return self.do_open(http.client.HTTPSConnection, req,\n\u001b[0m\u001b[0;32m   1394\u001b[0m                 context=self._context, check_hostname=self._check_hostname)\n\u001b[0;32m   1395\u001b[0m \u001b[1;33m\u001b[0m\u001b[0m\n",
      "\u001b[1;32m~\\anaconda3\\lib\\urllib\\request.py\u001b[0m in \u001b[0;36mdo_open\u001b[1;34m(self, http_class, req, **http_conn_args)\u001b[0m\n\u001b[0;32m   1351\u001b[0m                           encode_chunked=req.has_header('Transfer-encoding'))\n\u001b[0;32m   1352\u001b[0m             \u001b[1;32mexcept\u001b[0m \u001b[0mOSError\u001b[0m \u001b[1;32mas\u001b[0m \u001b[0merr\u001b[0m\u001b[1;33m:\u001b[0m \u001b[1;31m# timeout error\u001b[0m\u001b[1;33m\u001b[0m\u001b[1;33m\u001b[0m\u001b[0m\n\u001b[1;32m-> 1353\u001b[1;33m                 \u001b[1;32mraise\u001b[0m \u001b[0mURLError\u001b[0m\u001b[1;33m(\u001b[0m\u001b[0merr\u001b[0m\u001b[1;33m)\u001b[0m\u001b[1;33m\u001b[0m\u001b[1;33m\u001b[0m\u001b[0m\n\u001b[0m\u001b[0;32m   1354\u001b[0m             \u001b[0mr\u001b[0m \u001b[1;33m=\u001b[0m \u001b[0mh\u001b[0m\u001b[1;33m.\u001b[0m\u001b[0mgetresponse\u001b[0m\u001b[1;33m(\u001b[0m\u001b[1;33m)\u001b[0m\u001b[1;33m\u001b[0m\u001b[1;33m\u001b[0m\u001b[0m\n\u001b[0;32m   1355\u001b[0m         \u001b[1;32mexcept\u001b[0m\u001b[1;33m:\u001b[0m\u001b[1;33m\u001b[0m\u001b[1;33m\u001b[0m\u001b[0m\n",
      "\u001b[1;31mURLError\u001b[0m: <urlopen error [WinError 10060] Se produjo un error durante el intento de conexión ya que la parte conectada no respondió adecuadamente tras un periodo de tiempo, o bien se produjo un error en la conexión establecida ya que el host conectado no ha podido responder>"
     ]
    }
   ],
   "source": [
    "QTL_ID=[]\n",
    "CHROMOSOME=[]\n",
    "CENTER_CM=[]\n",
    "RANGE_CM=[]\n",
    "RANGE_MBP=[]\n",
    "SIGNIFICANCE=[]\n",
    "PUBLICATION=[]\n",
    "DOI=[]\n",
    "RACE=[]\n",
    "PAIS =[]\n",
    "GENE_ASOCIATE=[]\n",
    "\n",
    "\n",
    "for i in urls:\n",
    "    url=str(i)\n",
    "    uclient=urlopen(url)\n",
    "    pagehtml=uclient.read()\n",
    "    uclient.close()\n",
    "    pagesoup=soup(pagehtml, \"html.parser\")\n",
    "    \n",
    "    qtl_id=pagesoup.find(\"td\",{\"colspan\":\"2\"}).h2.text[4:11]\n",
    "    \n",
    "    table=pagesoup.find(\"table\",{\"bordercolor\":\"#F5F5cC\"})\n",
    "    table2=pagesoup.find(\"table\",{\"bordercolor\":\"#feddfe\"})\n",
    "    table3=pagesoup.find(\"table\",{\"bordercolor\":\"#E8e8Ff\"})\n",
    "    \n",
    "    ranges=table.findAll(\"td\")[5].text\n",
    "    \n",
    "    for i in range(0,len(ranges)):\n",
    "        if ranges[i:i+4]==\"(cM)\":\n",
    "            RANGE_CM.append(ranges[0:i+4])\n",
    "            RANGE_MBP.append(ranges[i+4:len(ranges)])\n",
    "            \n",
    "    a=table3.findAll(\"tr\")[2].findAll(\"td\")[1].text.split()\n",
    "    \n",
    "    \n",
    "    QTL_ID.append(qtl_id)\n",
    "    CHROMOSOME.append(table.findAll(\"td\")[1].text)\n",
    "    CENTER_CM.append(table.find(\"td\",{\"width\":\"120\"}).text)\n",
    "    SIGNIFICANCE.append(table.findAll(\"td\")[26].text)\n",
    "    RACE.append(table2.findAll(\"tr\")[2].div.a.text)\n",
    "    PAIS.append(a[len(a)-1])\n",
    "    GENE_ASOCIATE.append(table.findAll(\"tr\")[17].findAll(\"td\")[1].text)\n",
    "    \n",
    "    "
   ]
  },
  {
   "cell_type": "code",
   "execution_count": 39,
   "metadata": {},
   "outputs": [
    {
     "data": {
      "text/plain": [
       "['#13827 ',\n",
       " '#13830 ',\n",
       " '#13832 ',\n",
       " '#57709 ',\n",
       " '#13992 ',\n",
       " '#14147 ',\n",
       " '#57681 ',\n",
       " '#57684 ',\n",
       " '#57718 ',\n",
       " '#13996 ',\n",
       " '#57740 ',\n",
       " '#193115',\n",
       " '#13672 ',\n",
       " '#13818 ',\n",
       " '#13820 ']"
      ]
     },
     "execution_count": 39,
     "metadata": {},
     "output_type": "execute_result"
    }
   ],
   "source": [
    "QTL_ID"
   ]
  },
  {
   "cell_type": "code",
   "execution_count": 40,
   "metadata": {},
   "outputs": [
    {
     "data": {
      "text/plain": [
       "['1', '1', '1', '1', '2', '2', '2', '2', '2', '3', '3', '4', '6', '6', '6']"
      ]
     },
     "execution_count": 40,
     "metadata": {},
     "output_type": "execute_result"
    }
   ],
   "source": [
    "CHROMOSOME"
   ]
  },
  {
   "cell_type": "code",
   "execution_count": 41,
   "metadata": {},
   "outputs": [
    {
     "data": {
      "text/plain": [
       "['96.42 (cM)',\n",
       " '128.2 (cM)',\n",
       " '124.3 (cM)',\n",
       " '0.00 (cM)',\n",
       " '206 (cM)',\n",
       " '238.81 (cM)',\n",
       " '0.00 (cM)',\n",
       " '0.00 (cM)',\n",
       " '68.17 (cM)',\n",
       " '88.2 (cM)',\n",
       " '130.96 (cM)',\n",
       " '114.67 (cM)',\n",
       " '119.8 (cM)',\n",
       " '59 (cM)',\n",
       " '59 (cM)']"
      ]
     },
     "execution_count": 41,
     "metadata": {},
     "output_type": "execute_result"
    }
   ],
   "source": [
    "CENTER_CM"
   ]
  },
  {
   "cell_type": "code",
   "execution_count": 42,
   "metadata": {},
   "outputs": [
    {
     "data": {
      "text/plain": [
       "['Significant',\n",
       " 'Significant',\n",
       " 'Significant',\n",
       " 'Significant',\n",
       " 'Suggestive',\n",
       " 'Significant',\n",
       " 'Significant',\n",
       " 'Significant',\n",
       " 'Significant',\n",
       " 'Significant',\n",
       " 'Significant',\n",
       " 'Suggestive',\n",
       " 'Significant',\n",
       " 'Significant',\n",
       " 'Significant']"
      ]
     },
     "execution_count": 42,
     "metadata": {},
     "output_type": "execute_result"
    }
   ],
   "source": [
    "SIGNIFICANCE"
   ]
  },
  {
   "cell_type": "code",
   "execution_count": 43,
   "metadata": {},
   "outputs": [
    {
     "data": {
      "text/plain": [
       "['Manchega',\n",
       " 'Manchega',\n",
       " 'Manchega',\n",
       " 'Spanish Churra',\n",
       " 'Awassi',\n",
       " 'Dorset',\n",
       " 'Spanish Churra',\n",
       " 'Spanish Churra',\n",
       " 'Spanish Churra',\n",
       " 'Awassi',\n",
       " 'Spanish Churra',\n",
       " 'Barki',\n",
       " 'Spanish Churra',\n",
       " 'Awassi',\n",
       " 'Awassi']"
      ]
     },
     "execution_count": 43,
     "metadata": {},
     "output_type": "execute_result"
    }
   ],
   "source": [
    "RACE"
   ]
  },
  {
   "cell_type": "code",
   "execution_count": 44,
   "metadata": {},
   "outputs": [
    {
     "data": {
      "text/plain": [
       "['Spain',\n",
       " 'Spain',\n",
       " 'Spain',\n",
       " 'Spain',\n",
       " 'Australia',\n",
       " 'USA',\n",
       " 'Spain',\n",
       " 'Spain',\n",
       " 'Spain',\n",
       " 'Australia',\n",
       " 'Spain',\n",
       " 'Germany',\n",
       " 'Spain',\n",
       " 'Hungary',\n",
       " 'Hungary']"
      ]
     },
     "execution_count": 44,
     "metadata": {},
     "output_type": "execute_result"
    }
   ],
   "source": [
    "PAIS"
   ]
  },
  {
   "cell_type": "code",
   "execution_count": 45,
   "metadata": {},
   "outputs": [
    {
     "data": {
      "text/plain": [
       "['n/a',\n",
       " 'n/a',\n",
       " 'n/a',\n",
       " ' ()',\n",
       " 'n/a',\n",
       " 'n/a',\n",
       " ' ()',\n",
       " ' ()',\n",
       " 'n/a',\n",
       " 'n/a',\n",
       " ' ()',\n",
       " 'LEP (leptin)',\n",
       " 'n/a',\n",
       " 'n/a',\n",
       " 'n/a']"
      ]
     },
     "execution_count": 45,
     "metadata": {},
     "output_type": "execute_result"
    }
   ],
   "source": [
    "GENE_ASOCIATE"
   ]
  },
  {
   "cell_type": "markdown",
   "metadata": {},
   "source": [
    "# Integrantes:\n",
    "- Espinoza Vela Estéfano André\n",
    "- Núñez Campos  Hilary Mayte"
   ]
  },
  {
   "cell_type": "code",
   "execution_count": null,
   "metadata": {},
   "outputs": [],
   "source": []
  }
 ],
 "metadata": {
  "kernelspec": {
   "display_name": "Python 3",
   "language": "python",
   "name": "python3"
  },
  "language_info": {
   "codemirror_mode": {
    "name": "ipython",
    "version": 3
   },
   "file_extension": ".py",
   "mimetype": "text/x-python",
   "name": "python",
   "nbconvert_exporter": "python",
   "pygments_lexer": "ipython3",
   "version": "3.8.3"
  }
 },
 "nbformat": 4,
 "nbformat_minor": 4
}
